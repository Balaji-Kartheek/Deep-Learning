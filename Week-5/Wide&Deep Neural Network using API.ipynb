{
  "nbformat": 4,
  "nbformat_minor": 0,
  "metadata": {
    "colab": {
      "provenance": []
    },
    "kernelspec": {
      "name": "python3",
      "display_name": "Python 3"
    },
    "language_info": {
      "name": "python"
    }
  },
  "cells": [
    {
      "cell_type": "markdown",
      "source": [
        "Balaji Kartheek (200968080)"
      ],
      "metadata": {
        "id": "8JR9BDVoTKiT"
      }
    },
    {
      "cell_type": "markdown",
      "source": [
        "### Importing the libraries"
      ],
      "metadata": {
        "id": "SDSYYhjnv_2H"
      }
    },
    {
      "cell_type": "code",
      "execution_count": null,
      "metadata": {
        "id": "mN2MNOodY8Gp"
      },
      "outputs": [],
      "source": [
        "import tensorflow as tf\n",
        "from sklearn.datasets import fetch_california_housing   # Using the Scikit-Learn’s fetch_california_housing() function\n",
        "from sklearn.model_selection import train_test_split\n",
        "import matplotlib.pyplot as plt"
      ]
    },
    {
      "cell_type": "code",
      "source": [
        "df = fetch_california_housing(as_frame = True)    "
      ],
      "metadata": {
        "id": "iglNmsXD3Eie"
      },
      "execution_count": null,
      "outputs": []
    },
    {
      "cell_type": "code",
      "source": [
        "df = df.frame     # getting data as a dataframe "
      ],
      "metadata": {
        "id": "1vEJaA4z3RRU"
      },
      "execution_count": null,
      "outputs": []
    },
    {
      "cell_type": "code",
      "source": [
        "df.head()"
      ],
      "metadata": {
        "colab": {
          "base_uri": "https://localhost:8080/",
          "height": 206
        },
        "id": "YeTsVyTW3fGE",
        "outputId": "1e122fab-0ce6-46a1-ac40-3871cb48b382"
      },
      "execution_count": null,
      "outputs": [
        {
          "output_type": "execute_result",
          "data": {
            "text/plain": [
              "   MedInc  HouseAge  AveRooms  AveBedrms  Population  AveOccup  Latitude  \\\n",
              "0  8.3252      41.0  6.984127   1.023810       322.0  2.555556     37.88   \n",
              "1  8.3014      21.0  6.238137   0.971880      2401.0  2.109842     37.86   \n",
              "2  7.2574      52.0  8.288136   1.073446       496.0  2.802260     37.85   \n",
              "3  5.6431      52.0  5.817352   1.073059       558.0  2.547945     37.85   \n",
              "4  3.8462      52.0  6.281853   1.081081       565.0  2.181467     37.85   \n",
              "\n",
              "   Longitude  MedHouseVal  \n",
              "0    -122.23        4.526  \n",
              "1    -122.22        3.585  \n",
              "2    -122.24        3.521  \n",
              "3    -122.25        3.413  \n",
              "4    -122.25        3.422  "
            ],
            "text/html": [
              "\n",
              "  <div id=\"df-69dad7a4-11bd-4558-a2be-a9f864fec17d\">\n",
              "    <div class=\"colab-df-container\">\n",
              "      <div>\n",
              "<style scoped>\n",
              "    .dataframe tbody tr th:only-of-type {\n",
              "        vertical-align: middle;\n",
              "    }\n",
              "\n",
              "    .dataframe tbody tr th {\n",
              "        vertical-align: top;\n",
              "    }\n",
              "\n",
              "    .dataframe thead th {\n",
              "        text-align: right;\n",
              "    }\n",
              "</style>\n",
              "<table border=\"1\" class=\"dataframe\">\n",
              "  <thead>\n",
              "    <tr style=\"text-align: right;\">\n",
              "      <th></th>\n",
              "      <th>MedInc</th>\n",
              "      <th>HouseAge</th>\n",
              "      <th>AveRooms</th>\n",
              "      <th>AveBedrms</th>\n",
              "      <th>Population</th>\n",
              "      <th>AveOccup</th>\n",
              "      <th>Latitude</th>\n",
              "      <th>Longitude</th>\n",
              "      <th>MedHouseVal</th>\n",
              "    </tr>\n",
              "  </thead>\n",
              "  <tbody>\n",
              "    <tr>\n",
              "      <th>0</th>\n",
              "      <td>8.3252</td>\n",
              "      <td>41.0</td>\n",
              "      <td>6.984127</td>\n",
              "      <td>1.023810</td>\n",
              "      <td>322.0</td>\n",
              "      <td>2.555556</td>\n",
              "      <td>37.88</td>\n",
              "      <td>-122.23</td>\n",
              "      <td>4.526</td>\n",
              "    </tr>\n",
              "    <tr>\n",
              "      <th>1</th>\n",
              "      <td>8.3014</td>\n",
              "      <td>21.0</td>\n",
              "      <td>6.238137</td>\n",
              "      <td>0.971880</td>\n",
              "      <td>2401.0</td>\n",
              "      <td>2.109842</td>\n",
              "      <td>37.86</td>\n",
              "      <td>-122.22</td>\n",
              "      <td>3.585</td>\n",
              "    </tr>\n",
              "    <tr>\n",
              "      <th>2</th>\n",
              "      <td>7.2574</td>\n",
              "      <td>52.0</td>\n",
              "      <td>8.288136</td>\n",
              "      <td>1.073446</td>\n",
              "      <td>496.0</td>\n",
              "      <td>2.802260</td>\n",
              "      <td>37.85</td>\n",
              "      <td>-122.24</td>\n",
              "      <td>3.521</td>\n",
              "    </tr>\n",
              "    <tr>\n",
              "      <th>3</th>\n",
              "      <td>5.6431</td>\n",
              "      <td>52.0</td>\n",
              "      <td>5.817352</td>\n",
              "      <td>1.073059</td>\n",
              "      <td>558.0</td>\n",
              "      <td>2.547945</td>\n",
              "      <td>37.85</td>\n",
              "      <td>-122.25</td>\n",
              "      <td>3.413</td>\n",
              "    </tr>\n",
              "    <tr>\n",
              "      <th>4</th>\n",
              "      <td>3.8462</td>\n",
              "      <td>52.0</td>\n",
              "      <td>6.281853</td>\n",
              "      <td>1.081081</td>\n",
              "      <td>565.0</td>\n",
              "      <td>2.181467</td>\n",
              "      <td>37.85</td>\n",
              "      <td>-122.25</td>\n",
              "      <td>3.422</td>\n",
              "    </tr>\n",
              "  </tbody>\n",
              "</table>\n",
              "</div>\n",
              "      <button class=\"colab-df-convert\" onclick=\"convertToInteractive('df-69dad7a4-11bd-4558-a2be-a9f864fec17d')\"\n",
              "              title=\"Convert this dataframe to an interactive table.\"\n",
              "              style=\"display:none;\">\n",
              "        \n",
              "  <svg xmlns=\"http://www.w3.org/2000/svg\" height=\"24px\"viewBox=\"0 0 24 24\"\n",
              "       width=\"24px\">\n",
              "    <path d=\"M0 0h24v24H0V0z\" fill=\"none\"/>\n",
              "    <path d=\"M18.56 5.44l.94 2.06.94-2.06 2.06-.94-2.06-.94-.94-2.06-.94 2.06-2.06.94zm-11 1L8.5 8.5l.94-2.06 2.06-.94-2.06-.94L8.5 2.5l-.94 2.06-2.06.94zm10 10l.94 2.06.94-2.06 2.06-.94-2.06-.94-.94-2.06-.94 2.06-2.06.94z\"/><path d=\"M17.41 7.96l-1.37-1.37c-.4-.4-.92-.59-1.43-.59-.52 0-1.04.2-1.43.59L10.3 9.45l-7.72 7.72c-.78.78-.78 2.05 0 2.83L4 21.41c.39.39.9.59 1.41.59.51 0 1.02-.2 1.41-.59l7.78-7.78 2.81-2.81c.8-.78.8-2.07 0-2.86zM5.41 20L4 18.59l7.72-7.72 1.47 1.35L5.41 20z\"/>\n",
              "  </svg>\n",
              "      </button>\n",
              "      \n",
              "  <style>\n",
              "    .colab-df-container {\n",
              "      display:flex;\n",
              "      flex-wrap:wrap;\n",
              "      gap: 12px;\n",
              "    }\n",
              "\n",
              "    .colab-df-convert {\n",
              "      background-color: #E8F0FE;\n",
              "      border: none;\n",
              "      border-radius: 50%;\n",
              "      cursor: pointer;\n",
              "      display: none;\n",
              "      fill: #1967D2;\n",
              "      height: 32px;\n",
              "      padding: 0 0 0 0;\n",
              "      width: 32px;\n",
              "    }\n",
              "\n",
              "    .colab-df-convert:hover {\n",
              "      background-color: #E2EBFA;\n",
              "      box-shadow: 0px 1px 2px rgba(60, 64, 67, 0.3), 0px 1px 3px 1px rgba(60, 64, 67, 0.15);\n",
              "      fill: #174EA6;\n",
              "    }\n",
              "\n",
              "    [theme=dark] .colab-df-convert {\n",
              "      background-color: #3B4455;\n",
              "      fill: #D2E3FC;\n",
              "    }\n",
              "\n",
              "    [theme=dark] .colab-df-convert:hover {\n",
              "      background-color: #434B5C;\n",
              "      box-shadow: 0px 1px 3px 1px rgba(0, 0, 0, 0.15);\n",
              "      filter: drop-shadow(0px 1px 2px rgba(0, 0, 0, 0.3));\n",
              "      fill: #FFFFFF;\n",
              "    }\n",
              "  </style>\n",
              "\n",
              "      <script>\n",
              "        const buttonEl =\n",
              "          document.querySelector('#df-69dad7a4-11bd-4558-a2be-a9f864fec17d button.colab-df-convert');\n",
              "        buttonEl.style.display =\n",
              "          google.colab.kernel.accessAllowed ? 'block' : 'none';\n",
              "\n",
              "        async function convertToInteractive(key) {\n",
              "          const element = document.querySelector('#df-69dad7a4-11bd-4558-a2be-a9f864fec17d');\n",
              "          const dataTable =\n",
              "            await google.colab.kernel.invokeFunction('convertToInteractive',\n",
              "                                                     [key], {});\n",
              "          if (!dataTable) return;\n",
              "\n",
              "          const docLinkHtml = 'Like what you see? Visit the ' +\n",
              "            '<a target=\"_blank\" href=https://colab.research.google.com/notebooks/data_table.ipynb>data table notebook</a>'\n",
              "            + ' to learn more about interactive tables.';\n",
              "          element.innerHTML = '';\n",
              "          dataTable['output_type'] = 'display_data';\n",
              "          await google.colab.output.renderOutput(dataTable, element);\n",
              "          const docLink = document.createElement('div');\n",
              "          docLink.innerHTML = docLinkHtml;\n",
              "          element.appendChild(docLink);\n",
              "        }\n",
              "      </script>\n",
              "    </div>\n",
              "  </div>\n",
              "  "
            ]
          },
          "metadata": {},
          "execution_count": 181
        }
      ]
    },
    {
      "cell_type": "markdown",
      "source": [
        "## Descriptive Statistics"
      ],
      "metadata": {
        "id": "AY-s_on35bzD"
      }
    },
    {
      "cell_type": "code",
      "source": [
        "df.info()"
      ],
      "metadata": {
        "colab": {
          "base_uri": "https://localhost:8080/"
        },
        "id": "W5wwLOG65Gu0",
        "outputId": "820f33a0-12af-4633-dcb4-37460acb563f"
      },
      "execution_count": null,
      "outputs": [
        {
          "output_type": "stream",
          "name": "stdout",
          "text": [
            "<class 'pandas.core.frame.DataFrame'>\n",
            "RangeIndex: 20640 entries, 0 to 20639\n",
            "Data columns (total 9 columns):\n",
            " #   Column       Non-Null Count  Dtype  \n",
            "---  ------       --------------  -----  \n",
            " 0   MedInc       20640 non-null  float64\n",
            " 1   HouseAge     20640 non-null  float64\n",
            " 2   AveRooms     20640 non-null  float64\n",
            " 3   AveBedrms    20640 non-null  float64\n",
            " 4   Population   20640 non-null  float64\n",
            " 5   AveOccup     20640 non-null  float64\n",
            " 6   Latitude     20640 non-null  float64\n",
            " 7   Longitude    20640 non-null  float64\n",
            " 8   MedHouseVal  20640 non-null  float64\n",
            "dtypes: float64(9)\n",
            "memory usage: 1.4 MB\n"
          ]
        }
      ]
    },
    {
      "cell_type": "code",
      "source": [
        "df.describe()"
      ],
      "metadata": {
        "colab": {
          "base_uri": "https://localhost:8080/",
          "height": 300
        },
        "id": "n40jeHjL5J4L",
        "outputId": "23db9472-a6c0-423f-ef04-573b2f8558e9"
      },
      "execution_count": null,
      "outputs": [
        {
          "output_type": "execute_result",
          "data": {
            "text/plain": [
              "             MedInc      HouseAge      AveRooms     AveBedrms    Population  \\\n",
              "count  20640.000000  20640.000000  20640.000000  20640.000000  20640.000000   \n",
              "mean       3.870671     28.639486      5.429000      1.096675   1425.476744   \n",
              "std        1.899822     12.585558      2.474173      0.473911   1132.462122   \n",
              "min        0.499900      1.000000      0.846154      0.333333      3.000000   \n",
              "25%        2.563400     18.000000      4.440716      1.006079    787.000000   \n",
              "50%        3.534800     29.000000      5.229129      1.048780   1166.000000   \n",
              "75%        4.743250     37.000000      6.052381      1.099526   1725.000000   \n",
              "max       15.000100     52.000000    141.909091     34.066667  35682.000000   \n",
              "\n",
              "           AveOccup      Latitude     Longitude   MedHouseVal  \n",
              "count  20640.000000  20640.000000  20640.000000  20640.000000  \n",
              "mean       3.070655     35.631861   -119.569704      2.068558  \n",
              "std       10.386050      2.135952      2.003532      1.153956  \n",
              "min        0.692308     32.540000   -124.350000      0.149990  \n",
              "25%        2.429741     33.930000   -121.800000      1.196000  \n",
              "50%        2.818116     34.260000   -118.490000      1.797000  \n",
              "75%        3.282261     37.710000   -118.010000      2.647250  \n",
              "max     1243.333333     41.950000   -114.310000      5.000010  "
            ],
            "text/html": [
              "\n",
              "  <div id=\"df-2047ffd4-9f8a-4faa-afcd-0630389dd22f\">\n",
              "    <div class=\"colab-df-container\">\n",
              "      <div>\n",
              "<style scoped>\n",
              "    .dataframe tbody tr th:only-of-type {\n",
              "        vertical-align: middle;\n",
              "    }\n",
              "\n",
              "    .dataframe tbody tr th {\n",
              "        vertical-align: top;\n",
              "    }\n",
              "\n",
              "    .dataframe thead th {\n",
              "        text-align: right;\n",
              "    }\n",
              "</style>\n",
              "<table border=\"1\" class=\"dataframe\">\n",
              "  <thead>\n",
              "    <tr style=\"text-align: right;\">\n",
              "      <th></th>\n",
              "      <th>MedInc</th>\n",
              "      <th>HouseAge</th>\n",
              "      <th>AveRooms</th>\n",
              "      <th>AveBedrms</th>\n",
              "      <th>Population</th>\n",
              "      <th>AveOccup</th>\n",
              "      <th>Latitude</th>\n",
              "      <th>Longitude</th>\n",
              "      <th>MedHouseVal</th>\n",
              "    </tr>\n",
              "  </thead>\n",
              "  <tbody>\n",
              "    <tr>\n",
              "      <th>count</th>\n",
              "      <td>20640.000000</td>\n",
              "      <td>20640.000000</td>\n",
              "      <td>20640.000000</td>\n",
              "      <td>20640.000000</td>\n",
              "      <td>20640.000000</td>\n",
              "      <td>20640.000000</td>\n",
              "      <td>20640.000000</td>\n",
              "      <td>20640.000000</td>\n",
              "      <td>20640.000000</td>\n",
              "    </tr>\n",
              "    <tr>\n",
              "      <th>mean</th>\n",
              "      <td>3.870671</td>\n",
              "      <td>28.639486</td>\n",
              "      <td>5.429000</td>\n",
              "      <td>1.096675</td>\n",
              "      <td>1425.476744</td>\n",
              "      <td>3.070655</td>\n",
              "      <td>35.631861</td>\n",
              "      <td>-119.569704</td>\n",
              "      <td>2.068558</td>\n",
              "    </tr>\n",
              "    <tr>\n",
              "      <th>std</th>\n",
              "      <td>1.899822</td>\n",
              "      <td>12.585558</td>\n",
              "      <td>2.474173</td>\n",
              "      <td>0.473911</td>\n",
              "      <td>1132.462122</td>\n",
              "      <td>10.386050</td>\n",
              "      <td>2.135952</td>\n",
              "      <td>2.003532</td>\n",
              "      <td>1.153956</td>\n",
              "    </tr>\n",
              "    <tr>\n",
              "      <th>min</th>\n",
              "      <td>0.499900</td>\n",
              "      <td>1.000000</td>\n",
              "      <td>0.846154</td>\n",
              "      <td>0.333333</td>\n",
              "      <td>3.000000</td>\n",
              "      <td>0.692308</td>\n",
              "      <td>32.540000</td>\n",
              "      <td>-124.350000</td>\n",
              "      <td>0.149990</td>\n",
              "    </tr>\n",
              "    <tr>\n",
              "      <th>25%</th>\n",
              "      <td>2.563400</td>\n",
              "      <td>18.000000</td>\n",
              "      <td>4.440716</td>\n",
              "      <td>1.006079</td>\n",
              "      <td>787.000000</td>\n",
              "      <td>2.429741</td>\n",
              "      <td>33.930000</td>\n",
              "      <td>-121.800000</td>\n",
              "      <td>1.196000</td>\n",
              "    </tr>\n",
              "    <tr>\n",
              "      <th>50%</th>\n",
              "      <td>3.534800</td>\n",
              "      <td>29.000000</td>\n",
              "      <td>5.229129</td>\n",
              "      <td>1.048780</td>\n",
              "      <td>1166.000000</td>\n",
              "      <td>2.818116</td>\n",
              "      <td>34.260000</td>\n",
              "      <td>-118.490000</td>\n",
              "      <td>1.797000</td>\n",
              "    </tr>\n",
              "    <tr>\n",
              "      <th>75%</th>\n",
              "      <td>4.743250</td>\n",
              "      <td>37.000000</td>\n",
              "      <td>6.052381</td>\n",
              "      <td>1.099526</td>\n",
              "      <td>1725.000000</td>\n",
              "      <td>3.282261</td>\n",
              "      <td>37.710000</td>\n",
              "      <td>-118.010000</td>\n",
              "      <td>2.647250</td>\n",
              "    </tr>\n",
              "    <tr>\n",
              "      <th>max</th>\n",
              "      <td>15.000100</td>\n",
              "      <td>52.000000</td>\n",
              "      <td>141.909091</td>\n",
              "      <td>34.066667</td>\n",
              "      <td>35682.000000</td>\n",
              "      <td>1243.333333</td>\n",
              "      <td>41.950000</td>\n",
              "      <td>-114.310000</td>\n",
              "      <td>5.000010</td>\n",
              "    </tr>\n",
              "  </tbody>\n",
              "</table>\n",
              "</div>\n",
              "      <button class=\"colab-df-convert\" onclick=\"convertToInteractive('df-2047ffd4-9f8a-4faa-afcd-0630389dd22f')\"\n",
              "              title=\"Convert this dataframe to an interactive table.\"\n",
              "              style=\"display:none;\">\n",
              "        \n",
              "  <svg xmlns=\"http://www.w3.org/2000/svg\" height=\"24px\"viewBox=\"0 0 24 24\"\n",
              "       width=\"24px\">\n",
              "    <path d=\"M0 0h24v24H0V0z\" fill=\"none\"/>\n",
              "    <path d=\"M18.56 5.44l.94 2.06.94-2.06 2.06-.94-2.06-.94-.94-2.06-.94 2.06-2.06.94zm-11 1L8.5 8.5l.94-2.06 2.06-.94-2.06-.94L8.5 2.5l-.94 2.06-2.06.94zm10 10l.94 2.06.94-2.06 2.06-.94-2.06-.94-.94-2.06-.94 2.06-2.06.94z\"/><path d=\"M17.41 7.96l-1.37-1.37c-.4-.4-.92-.59-1.43-.59-.52 0-1.04.2-1.43.59L10.3 9.45l-7.72 7.72c-.78.78-.78 2.05 0 2.83L4 21.41c.39.39.9.59 1.41.59.51 0 1.02-.2 1.41-.59l7.78-7.78 2.81-2.81c.8-.78.8-2.07 0-2.86zM5.41 20L4 18.59l7.72-7.72 1.47 1.35L5.41 20z\"/>\n",
              "  </svg>\n",
              "      </button>\n",
              "      \n",
              "  <style>\n",
              "    .colab-df-container {\n",
              "      display:flex;\n",
              "      flex-wrap:wrap;\n",
              "      gap: 12px;\n",
              "    }\n",
              "\n",
              "    .colab-df-convert {\n",
              "      background-color: #E8F0FE;\n",
              "      border: none;\n",
              "      border-radius: 50%;\n",
              "      cursor: pointer;\n",
              "      display: none;\n",
              "      fill: #1967D2;\n",
              "      height: 32px;\n",
              "      padding: 0 0 0 0;\n",
              "      width: 32px;\n",
              "    }\n",
              "\n",
              "    .colab-df-convert:hover {\n",
              "      background-color: #E2EBFA;\n",
              "      box-shadow: 0px 1px 2px rgba(60, 64, 67, 0.3), 0px 1px 3px 1px rgba(60, 64, 67, 0.15);\n",
              "      fill: #174EA6;\n",
              "    }\n",
              "\n",
              "    [theme=dark] .colab-df-convert {\n",
              "      background-color: #3B4455;\n",
              "      fill: #D2E3FC;\n",
              "    }\n",
              "\n",
              "    [theme=dark] .colab-df-convert:hover {\n",
              "      background-color: #434B5C;\n",
              "      box-shadow: 0px 1px 3px 1px rgba(0, 0, 0, 0.15);\n",
              "      filter: drop-shadow(0px 1px 2px rgba(0, 0, 0, 0.3));\n",
              "      fill: #FFFFFF;\n",
              "    }\n",
              "  </style>\n",
              "\n",
              "      <script>\n",
              "        const buttonEl =\n",
              "          document.querySelector('#df-2047ffd4-9f8a-4faa-afcd-0630389dd22f button.colab-df-convert');\n",
              "        buttonEl.style.display =\n",
              "          google.colab.kernel.accessAllowed ? 'block' : 'none';\n",
              "\n",
              "        async function convertToInteractive(key) {\n",
              "          const element = document.querySelector('#df-2047ffd4-9f8a-4faa-afcd-0630389dd22f');\n",
              "          const dataTable =\n",
              "            await google.colab.kernel.invokeFunction('convertToInteractive',\n",
              "                                                     [key], {});\n",
              "          if (!dataTable) return;\n",
              "\n",
              "          const docLinkHtml = 'Like what you see? Visit the ' +\n",
              "            '<a target=\"_blank\" href=https://colab.research.google.com/notebooks/data_table.ipynb>data table notebook</a>'\n",
              "            + ' to learn more about interactive tables.';\n",
              "          element.innerHTML = '';\n",
              "          dataTable['output_type'] = 'display_data';\n",
              "          await google.colab.output.renderOutput(dataTable, element);\n",
              "          const docLink = document.createElement('div');\n",
              "          docLink.innerHTML = docLinkHtml;\n",
              "          element.appendChild(docLink);\n",
              "        }\n",
              "      </script>\n",
              "    </div>\n",
              "  </div>\n",
              "  "
            ]
          },
          "metadata": {},
          "execution_count": 183
        }
      ]
    },
    {
      "cell_type": "markdown",
      "source": [
        "## Distribution of the attributes"
      ],
      "metadata": {
        "id": "t-VUPhK2wrzy"
      }
    },
    {
      "cell_type": "code",
      "source": [
        "df.hist(figsize = (17,15),color = 'y',edgecolor = 'r')\n",
        "plt.show()"
      ],
      "metadata": {
        "id": "bXL-_bsH5L_c",
        "colab": {
          "base_uri": "https://localhost:8080/",
          "height": 879
        },
        "outputId": "36de6809-9d51-4b07-9332-57b48dcb8836"
      },
      "execution_count": null,
      "outputs": [
        {
          "output_type": "display_data",
          "data": {
            "text/plain": [
              "<Figure size 1224x1080 with 9 Axes>"
            ],
            "image/png": "[encoded data removed]"
          },
          "metadata": {}
        }
      ]
    },
    {
      "cell_type": "code",
      "source": [
        "x = df.drop('MedHouseVal',axis =1)\n",
        "y = df.MedHouseVal            # target variable"
      ],
      "metadata": {
        "id": "IdBa5jbn3giM"
      },
      "execution_count": null,
      "outputs": []
    },
    {
      "cell_type": "code",
      "source": [
        "x.head()"
      ],
      "metadata": {
        "colab": {
          "base_uri": "https://localhost:8080/",
          "height": 206
        },
        "id": "eZjdsg-U4cuE",
        "outputId": "a3a2bf3e-f514-4e7e-8297-791a2c1d6679"
      },
      "execution_count": null,
      "outputs": [
        {
          "output_type": "execute_result",
          "data": {
            "text/plain": [
              "   MedInc  HouseAge  AveRooms  AveBedrms  Population  AveOccup  Latitude  \\\n",
              "0  8.3252      41.0  6.984127   1.023810       322.0  2.555556     37.88   \n",
              "1  8.3014      21.0  6.238137   0.971880      2401.0  2.109842     37.86   \n",
              "2  7.2574      52.0  8.288136   1.073446       496.0  2.802260     37.85   \n",
              "3  5.6431      52.0  5.817352   1.073059       558.0  2.547945     37.85   \n",
              "4  3.8462      52.0  6.281853   1.081081       565.0  2.181467     37.85   \n",
              "\n",
              "   Longitude  \n",
              "0    -122.23  \n",
              "1    -122.22  \n",
              "2    -122.24  \n",
              "3    -122.25  \n",
              "4    -122.25  "
            ],
            "text/html": [
              "\n",
              "  <div id=\"df-30eed810-7242-4b86-8947-bf34cfa2cb58\">\n",
              "    <div class=\"colab-df-container\">\n",
              "      <div>\n",
              "<style scoped>\n",
              "    .dataframe tbody tr th:only-of-type {\n",
              "        vertical-align: middle;\n",
              "    }\n",
              "\n",
              "    .dataframe tbody tr th {\n",
              "        vertical-align: top;\n",
              "    }\n",
              "\n",
              "    .dataframe thead th {\n",
              "        text-align: right;\n",
              "    }\n",
              "</style>\n",
              "<table border=\"1\" class=\"dataframe\">\n",
              "  <thead>\n",
              "    <tr style=\"text-align: right;\">\n",
              "      <th></th>\n",
              "      <th>MedInc</th>\n",
              "      <th>HouseAge</th>\n",
              "      <th>AveRooms</th>\n",
              "      <th>AveBedrms</th>\n",
              "      <th>Population</th>\n",
              "      <th>AveOccup</th>\n",
              "      <th>Latitude</th>\n",
              "      <th>Longitude</th>\n",
              "    </tr>\n",
              "  </thead>\n",
              "  <tbody>\n",
              "    <tr>\n",
              "      <th>0</th>\n",
              "      <td>8.3252</td>\n",
              "      <td>41.0</td>\n",
              "      <td>6.984127</td>\n",
              "      <td>1.023810</td>\n",
              "      <td>322.0</td>\n",
              "      <td>2.555556</td>\n",
              "      <td>37.88</td>\n",
              "      <td>-122.23</td>\n",
              "    </tr>\n",
              "    <tr>\n",
              "      <th>1</th>\n",
              "      <td>8.3014</td>\n",
              "      <td>21.0</td>\n",
              "      <td>6.238137</td>\n",
              "      <td>0.971880</td>\n",
              "      <td>2401.0</td>\n",
              "      <td>2.109842</td>\n",
              "      <td>37.86</td>\n",
              "      <td>-122.22</td>\n",
              "    </tr>\n",
              "    <tr>\n",
              "      <th>2</th>\n",
              "      <td>7.2574</td>\n",
              "      <td>52.0</td>\n",
              "      <td>8.288136</td>\n",
              "      <td>1.073446</td>\n",
              "      <td>496.0</td>\n",
              "      <td>2.802260</td>\n",
              "      <td>37.85</td>\n",
              "      <td>-122.24</td>\n",
              "    </tr>\n",
              "    <tr>\n",
              "      <th>3</th>\n",
              "      <td>5.6431</td>\n",
              "      <td>52.0</td>\n",
              "      <td>5.817352</td>\n",
              "      <td>1.073059</td>\n",
              "      <td>558.0</td>\n",
              "      <td>2.547945</td>\n",
              "      <td>37.85</td>\n",
              "      <td>-122.25</td>\n",
              "    </tr>\n",
              "    <tr>\n",
              "      <th>4</th>\n",
              "      <td>3.8462</td>\n",
              "      <td>52.0</td>\n",
              "      <td>6.281853</td>\n",
              "      <td>1.081081</td>\n",
              "      <td>565.0</td>\n",
              "      <td>2.181467</td>\n",
              "      <td>37.85</td>\n",
              "      <td>-122.25</td>\n",
              "    </tr>\n",
              "  </tbody>\n",
              "</table>\n",
              "</div>\n",
              "      <button class=\"colab-df-convert\" onclick=\"convertToInteractive('df-30eed810-7242-4b86-8947-bf34cfa2cb58')\"\n",
              "              title=\"Convert this dataframe to an interactive table.\"\n",
              "              style=\"display:none;\">\n",
              "        \n",
              "  <svg xmlns=\"http://www.w3.org/2000/svg\" height=\"24px\"viewBox=\"0 0 24 24\"\n",
              "       width=\"24px\">\n",
              "    <path d=\"M0 0h24v24H0V0z\" fill=\"none\"/>\n",
              "    <path d=\"M18.56 5.44l.94 2.06.94-2.06 2.06-.94-2.06-.94-.94-2.06-.94 2.06-2.06.94zm-11 1L8.5 8.5l.94-2.06 2.06-.94-2.06-.94L8.5 2.5l-.94 2.06-2.06.94zm10 10l.94 2.06.94-2.06 2.06-.94-2.06-.94-.94-2.06-.94 2.06-2.06.94z\"/><path d=\"M17.41 7.96l-1.37-1.37c-.4-.4-.92-.59-1.43-.59-.52 0-1.04.2-1.43.59L10.3 9.45l-7.72 7.72c-.78.78-.78 2.05 0 2.83L4 21.41c.39.39.9.59 1.41.59.51 0 1.02-.2 1.41-.59l7.78-7.78 2.81-2.81c.8-.78.8-2.07 0-2.86zM5.41 20L4 18.59l7.72-7.72 1.47 1.35L5.41 20z\"/>\n",
              "  </svg>\n",
              "      </button>\n",
              "      \n",
              "  <style>\n",
              "    .colab-df-container {\n",
              "      display:flex;\n",
              "      flex-wrap:wrap;\n",
              "      gap: 12px;\n",
              "    }\n",
              "\n",
              "    .colab-df-convert {\n",
              "      background-color: #E8F0FE;\n",
              "      border: none;\n",
              "      border-radius: 50%;\n",
              "      cursor: pointer;\n",
              "      display: none;\n",
              "      fill: #1967D2;\n",
              "      height: 32px;\n",
              "      padding: 0 0 0 0;\n",
              "      width: 32px;\n",
              "    }\n",
              "\n",
              "    .colab-df-convert:hover {\n",
              "      background-color: #E2EBFA;\n",
              "      box-shadow: 0px 1px 2px rgba(60, 64, 67, 0.3), 0px 1px 3px 1px rgba(60, 64, 67, 0.15);\n",
              "      fill: #174EA6;\n",
              "    }\n",
              "\n",
              "    [theme=dark] .colab-df-convert {\n",
              "      background-color: #3B4455;\n",
              "      fill: #D2E3FC;\n",
              "    }\n",
              "\n",
              "    [theme=dark] .colab-df-convert:hover {\n",
              "      background-color: #434B5C;\n",
              "      box-shadow: 0px 1px 3px 1px rgba(0, 0, 0, 0.15);\n",
              "      filter: drop-shadow(0px 1px 2px rgba(0, 0, 0, 0.3));\n",
              "      fill: #FFFFFF;\n",
              "    }\n",
              "  </style>\n",
              "\n",
              "      <script>\n",
              "        const buttonEl =\n",
              "          document.querySelector('#df-30eed810-7242-4b86-8947-bf34cfa2cb58 button.colab-df-convert');\n",
              "        buttonEl.style.display =\n",
              "          google.colab.kernel.accessAllowed ? 'block' : 'none';\n",
              "\n",
              "        async function convertToInteractive(key) {\n",
              "          const element = document.querySelector('#df-30eed810-7242-4b86-8947-bf34cfa2cb58');\n",
              "          const dataTable =\n",
              "            await google.colab.kernel.invokeFunction('convertToInteractive',\n",
              "                                                     [key], {});\n",
              "          if (!dataTable) return;\n",
              "\n",
              "          const docLinkHtml = 'Like what you see? Visit the ' +\n",
              "            '<a target=\"_blank\" href=https://colab.research.google.com/notebooks/data_table.ipynb>data table notebook</a>'\n",
              "            + ' to learn more about interactive tables.';\n",
              "          element.innerHTML = '';\n",
              "          dataTable['output_type'] = 'display_data';\n",
              "          await google.colab.output.renderOutput(dataTable, element);\n",
              "          const docLink = document.createElement('div');\n",
              "          docLink.innerHTML = docLinkHtml;\n",
              "          element.appendChild(docLink);\n",
              "        }\n",
              "      </script>\n",
              "    </div>\n",
              "  </div>\n",
              "  "
            ]
          },
          "metadata": {},
          "execution_count": 186
        }
      ]
    },
    {
      "cell_type": "code",
      "source": [
        "cols = x.columns"
      ],
      "metadata": {
        "id": "p-kPUiK3yhsa"
      },
      "execution_count": null,
      "outputs": []
    },
    {
      "cell_type": "code",
      "source": [
        "y"
      ],
      "metadata": {
        "colab": {
          "base_uri": "https://localhost:8080/"
        },
        "id": "i_uH3Y0I4crj",
        "outputId": "1bc8ec0b-07a1-4808-972a-f53ebec0b094"
      },
      "execution_count": null,
      "outputs": [
        {
          "output_type": "execute_result",
          "data": {
            "text/plain": [
              "0        4.526\n",
              "1        3.585\n",
              "2        3.521\n",
              "3        3.413\n",
              "4        3.422\n",
              "         ...  \n",
              "20635    0.781\n",
              "20636    0.771\n",
              "20637    0.923\n",
              "20638    0.847\n",
              "20639    0.894\n",
              "Name: MedHouseVal, Length: 20640, dtype: float64"
            ]
          },
          "metadata": {},
          "execution_count": 188
        }
      ]
    },
    {
      "cell_type": "markdown",
      "source": [
        "# Stadardization"
      ],
      "metadata": {
        "id": "IrYKqIIcxpVM"
      }
    },
    {
      "cell_type": "code",
      "source": [
        "from sklearn.preprocessing import StandardScaler\n",
        "import pandas as pd"
      ],
      "metadata": {
        "id": "7vdySaxPyGbB"
      },
      "execution_count": null,
      "outputs": []
    },
    {
      "cell_type": "code",
      "source": [
        "scaler = StandardScaler()\n",
        "x = scaler.fit_transform(x)"
      ],
      "metadata": {
        "id": "itq0NvkRx63H"
      },
      "execution_count": null,
      "outputs": []
    },
    {
      "cell_type": "code",
      "source": [
        "x = pd.DataFrame(x,columns = cols)\n",
        "x.head()"
      ],
      "metadata": {
        "colab": {
          "base_uri": "https://localhost:8080/",
          "height": 206
        },
        "id": "WafM-cO6x_5-",
        "outputId": "eca7648d-2ff2-4e7f-9315-46dd15efcdd8"
      },
      "execution_count": null,
      "outputs": [
        {
          "output_type": "execute_result",
          "data": {
            "text/plain": [
              "     MedInc  HouseAge  AveRooms  AveBedrms  Population  AveOccup  Latitude  \\\n",
              "0  2.344766  0.982143  0.628559  -0.153758   -0.974429 -0.049597  1.052548   \n",
              "1  2.332238 -0.607019  0.327041  -0.263336    0.861439 -0.092512  1.043185   \n",
              "2  1.782699  1.856182  1.155620  -0.049016   -0.820777 -0.025843  1.038503   \n",
              "3  0.932968  1.856182  0.156966  -0.049833   -0.766028 -0.050329  1.038503   \n",
              "4 -0.012881  1.856182  0.344711  -0.032906   -0.759847 -0.085616  1.038503   \n",
              "\n",
              "   Longitude  \n",
              "0  -1.327835  \n",
              "1  -1.322844  \n",
              "2  -1.332827  \n",
              "3  -1.337818  \n",
              "4  -1.337818  "
            ],
            "text/html": [
              "\n",
              "  <div id=\"df-1b70d160-983f-46be-b546-5f02be9f69f7\">\n",
              "    <div class=\"colab-df-container\">\n",
              "      <div>\n",
              "<style scoped>\n",
              "    .dataframe tbody tr th:only-of-type {\n",
              "        vertical-align: middle;\n",
              "    }\n",
              "\n",
              "    .dataframe tbody tr th {\n",
              "        vertical-align: top;\n",
              "    }\n",
              "\n",
              "    .dataframe thead th {\n",
              "        text-align: right;\n",
              "    }\n",
              "</style>\n",
              "<table border=\"1\" class=\"dataframe\">\n",
              "  <thead>\n",
              "    <tr style=\"text-align: right;\">\n",
              "      <th></th>\n",
              "      <th>MedInc</th>\n",
              "      <th>HouseAge</th>\n",
              "      <th>AveRooms</th>\n",
              "      <th>AveBedrms</th>\n",
              "      <th>Population</th>\n",
              "      <th>AveOccup</th>\n",
              "      <th>Latitude</th>\n",
              "      <th>Longitude</th>\n",
              "    </tr>\n",
              "  </thead>\n",
              "  <tbody>\n",
              "    <tr>\n",
              "      <th>0</th>\n",
              "      <td>2.344766</td>\n",
              "      <td>0.982143</td>\n",
              "      <td>0.628559</td>\n",
              "      <td>-0.153758</td>\n",
              "      <td>-0.974429</td>\n",
              "      <td>-0.049597</td>\n",
              "      <td>1.052548</td>\n",
              "      <td>-1.327835</td>\n",
              "    </tr>\n",
              "    <tr>\n",
              "      <th>1</th>\n",
              "      <td>2.332238</td>\n",
              "      <td>-0.607019</td>\n",
              "      <td>0.327041</td>\n",
              "      <td>-0.263336</td>\n",
              "      <td>0.861439</td>\n",
              "      <td>-0.092512</td>\n",
              "      <td>1.043185</td>\n",
              "      <td>-1.322844</td>\n",
              "    </tr>\n",
              "    <tr>\n",
              "      <th>2</th>\n",
              "      <td>1.782699</td>\n",
              "      <td>1.856182</td>\n",
              "      <td>1.155620</td>\n",
              "      <td>-0.049016</td>\n",
              "      <td>-0.820777</td>\n",
              "      <td>-0.025843</td>\n",
              "      <td>1.038503</td>\n",
              "      <td>-1.332827</td>\n",
              "    </tr>\n",
              "    <tr>\n",
              "      <th>3</th>\n",
              "      <td>0.932968</td>\n",
              "      <td>1.856182</td>\n",
              "      <td>0.156966</td>\n",
              "      <td>-0.049833</td>\n",
              "      <td>-0.766028</td>\n",
              "      <td>-0.050329</td>\n",
              "      <td>1.038503</td>\n",
              "      <td>-1.337818</td>\n",
              "    </tr>\n",
              "    <tr>\n",
              "      <th>4</th>\n",
              "      <td>-0.012881</td>\n",
              "      <td>1.856182</td>\n",
              "      <td>0.344711</td>\n",
              "      <td>-0.032906</td>\n",
              "      <td>-0.759847</td>\n",
              "      <td>-0.085616</td>\n",
              "      <td>1.038503</td>\n",
              "      <td>-1.337818</td>\n",
              "    </tr>\n",
              "  </tbody>\n",
              "</table>\n",
              "</div>\n",
              "      <button class=\"colab-df-convert\" onclick=\"convertToInteractive('df-1b70d160-983f-46be-b546-5f02be9f69f7')\"\n",
              "              title=\"Convert this dataframe to an interactive table.\"\n",
              "              style=\"display:none;\">\n",
              "        \n",
              "  <svg xmlns=\"http://www.w3.org/2000/svg\" height=\"24px\"viewBox=\"0 0 24 24\"\n",
              "       width=\"24px\">\n",
              "    <path d=\"M0 0h24v24H0V0z\" fill=\"none\"/>\n",
              "    <path d=\"M18.56 5.44l.94 2.06.94-2.06 2.06-.94-2.06-.94-.94-2.06-.94 2.06-2.06.94zm-11 1L8.5 8.5l.94-2.06 2.06-.94-2.06-.94L8.5 2.5l-.94 2.06-2.06.94zm10 10l.94 2.06.94-2.06 2.06-.94-2.06-.94-.94-2.06-.94 2.06-2.06.94z\"/><path d=\"M17.41 7.96l-1.37-1.37c-.4-.4-.92-.59-1.43-.59-.52 0-1.04.2-1.43.59L10.3 9.45l-7.72 7.72c-.78.78-.78 2.05 0 2.83L4 21.41c.39.39.9.59 1.41.59.51 0 1.02-.2 1.41-.59l7.78-7.78 2.81-2.81c.8-.78.8-2.07 0-2.86zM5.41 20L4 18.59l7.72-7.72 1.47 1.35L5.41 20z\"/>\n",
              "  </svg>\n",
              "      </button>\n",
              "      \n",
              "  <style>\n",
              "    .colab-df-container {\n",
              "      display:flex;\n",
              "      flex-wrap:wrap;\n",
              "      gap: 12px;\n",
              "    }\n",
              "\n",
              "    .colab-df-convert {\n",
              "      background-color: #E8F0FE;\n",
              "      border: none;\n",
              "      border-radius: 50%;\n",
              "      cursor: pointer;\n",
              "      display: none;\n",
              "      fill: #1967D2;\n",
              "      height: 32px;\n",
              "      padding: 0 0 0 0;\n",
              "      width: 32px;\n",
              "    }\n",
              "\n",
              "    .colab-df-convert:hover {\n",
              "      background-color: #E2EBFA;\n",
              "      box-shadow: 0px 1px 2px rgba(60, 64, 67, 0.3), 0px 1px 3px 1px rgba(60, 64, 67, 0.15);\n",
              "      fill: #174EA6;\n",
              "    }\n",
              "\n",
              "    [theme=dark] .colab-df-convert {\n",
              "      background-color: #3B4455;\n",
              "      fill: #D2E3FC;\n",
              "    }\n",
              "\n",
              "    [theme=dark] .colab-df-convert:hover {\n",
              "      background-color: #434B5C;\n",
              "      box-shadow: 0px 1px 3px 1px rgba(0, 0, 0, 0.15);\n",
              "      filter: drop-shadow(0px 1px 2px rgba(0, 0, 0, 0.3));\n",
              "      fill: #FFFFFF;\n",
              "    }\n",
              "  </style>\n",
              "\n",
              "      <script>\n",
              "        const buttonEl =\n",
              "          document.querySelector('#df-1b70d160-983f-46be-b546-5f02be9f69f7 button.colab-df-convert');\n",
              "        buttonEl.style.display =\n",
              "          google.colab.kernel.accessAllowed ? 'block' : 'none';\n",
              "\n",
              "        async function convertToInteractive(key) {\n",
              "          const element = document.querySelector('#df-1b70d160-983f-46be-b546-5f02be9f69f7');\n",
              "          const dataTable =\n",
              "            await google.colab.kernel.invokeFunction('convertToInteractive',\n",
              "                                                     [key], {});\n",
              "          if (!dataTable) return;\n",
              "\n",
              "          const docLinkHtml = 'Like what you see? Visit the ' +\n",
              "            '<a target=\"_blank\" href=https://colab.research.google.com/notebooks/data_table.ipynb>data table notebook</a>'\n",
              "            + ' to learn more about interactive tables.';\n",
              "          element.innerHTML = '';\n",
              "          dataTable['output_type'] = 'display_data';\n",
              "          await google.colab.output.renderOutput(dataTable, element);\n",
              "          const docLink = document.createElement('div');\n",
              "          docLink.innerHTML = docLinkHtml;\n",
              "          element.appendChild(docLink);\n",
              "        }\n",
              "      </script>\n",
              "    </div>\n",
              "  </div>\n",
              "  "
            ]
          },
          "metadata": {},
          "execution_count": 191
        }
      ]
    },
    {
      "cell_type": "markdown",
      "source": [
        "## TrainTest Split"
      ],
      "metadata": {
        "id": "KNt4wEi94MsE"
      }
    },
    {
      "cell_type": "code",
      "source": [
        "X_train, X_test, y_train, y_test = train_test_split(x, y, test_size=0.33, random_state=42)\n",
        "X_train, X_valid, y_train, y_valid = train_test_split(X_train, y_train)"
      ],
      "metadata": {
        "id": "R3Atr9dl43jT"
      },
      "execution_count": null,
      "outputs": []
    },
    {
      "cell_type": "markdown",
      "source": [
        "### Using the sequential API build a regression MLP ( to make predications. Model can have 1 hidden layer with 30 units. Visualize the MSE for 20 epochs. Comment on overall accuracy."
      ],
      "metadata": {
        "id": "whQsvV8cy0bT"
      }
    },
    {
      "cell_type": "code",
      "source": [
        "model = tf.keras.Sequential([\n",
        "    tf.keras.layers.Dense(30, activation = 'relu', input_shape = X_train.shape[1:]),\n",
        "    tf.keras.layers.Dense(1)\n",
        "])"
      ],
      "metadata": {
        "id": "PnYVFuKW43gr"
      },
      "execution_count": null,
      "outputs": []
    },
    {
      "cell_type": "code",
      "source": [
        "# compile the model\n",
        "\n",
        "model.compile(loss = tf.losses.mean_squared_error,optimizer = 'sgd')"
      ],
      "metadata": {
        "id": "J7en1US1zFwk"
      },
      "execution_count": null,
      "outputs": []
    },
    {
      "cell_type": "code",
      "source": [
        "model.summary()"
      ],
      "metadata": {
        "colab": {
          "base_uri": "https://localhost:8080/"
        },
        "id": "hvIEVaq8Qzmi",
        "outputId": "2851073e-91a6-4deb-b159-036db5e41544"
      },
      "execution_count": null,
      "outputs": [
        {
          "output_type": "stream",
          "name": "stdout",
          "text": [
            "Model: \"sequential_7\"\n",
            "_________________________________________________________________\n",
            " Layer (type)                Output Shape              Param #   \n",
            "=================================================================\n",
            " dense_24 (Dense)            (None, 30)                270       \n",
            "                                                                 \n",
            " dense_25 (Dense)            (None, 1)                 31        \n",
            "                                                                 \n",
            "=================================================================\n",
            "Total params: 301\n",
            "Trainable params: 301\n",
            "Non-trainable params: 0\n",
            "_________________________________________________________________\n"
          ]
        }
      ]
    },
    {
      "cell_type": "code",
      "source": [
        "history = model.fit(X_train, y_train, epochs=20,\n",
        "                   validation_data = (X_valid, y_valid))"
      ],
      "metadata": {
        "colab": {
          "base_uri": "https://localhost:8080/"
        },
        "id": "dTE4g42kzFt5",
        "outputId": "c34c8a66-53f5-4b70-9f36-35821cb5fb57"
      },
      "execution_count": null,
      "outputs": [
        {
          "output_type": "stream",
          "name": "stdout",
          "text": [
            "Epoch 1/20\n",
            "325/325 [==============================] - 1s 2ms/step - loss: 0.8347 - val_loss: 0.8391\n",
            "Epoch 2/20\n",
            "325/325 [==============================] - 0s 1ms/step - loss: 0.5416 - val_loss: 0.6490\n",
            "Epoch 3/20\n",
            "325/325 [==============================] - 0s 1ms/step - loss: 0.4852 - val_loss: 0.6007\n",
            "Epoch 4/20\n",
            "325/325 [==============================] - 0s 1ms/step - loss: 0.4597 - val_loss: 0.5087\n",
            "Epoch 5/20\n",
            "325/325 [==============================] - 0s 1ms/step - loss: 0.4437 - val_loss: 0.4593\n",
            "Epoch 6/20\n",
            "325/325 [==============================] - 0s 2ms/step - loss: 0.4317 - val_loss: 0.4382\n",
            "Epoch 7/20\n",
            "325/325 [==============================] - 0s 1ms/step - loss: 0.4269 - val_loss: 0.4775\n",
            "Epoch 8/20\n",
            "325/325 [==============================] - 0s 1ms/step - loss: 0.4178 - val_loss: 0.4411\n",
            "Epoch 9/20\n",
            "325/325 [==============================] - 0s 1ms/step - loss: 0.4136 - val_loss: 0.4230\n",
            "Epoch 10/20\n",
            "325/325 [==============================] - 0s 1ms/step - loss: 0.4046 - val_loss: 0.4074\n",
            "Epoch 11/20\n",
            "325/325 [==============================] - 0s 1ms/step - loss: 0.3994 - val_loss: 0.4427\n",
            "Epoch 12/20\n",
            "325/325 [==============================] - 0s 1ms/step - loss: 0.3952 - val_loss: 0.4093\n",
            "Epoch 13/20\n",
            "325/325 [==============================] - 0s 1ms/step - loss: 0.3933 - val_loss: 0.4023\n",
            "Epoch 14/20\n",
            "325/325 [==============================] - 0s 1ms/step - loss: 0.3876 - val_loss: 0.4174\n",
            "Epoch 15/20\n",
            "325/325 [==============================] - 0s 1ms/step - loss: 0.3847 - val_loss: 0.4185\n",
            "Epoch 16/20\n",
            "325/325 [==============================] - 0s 1ms/step - loss: 0.3833 - val_loss: 0.3857\n",
            "Epoch 17/20\n",
            "325/325 [==============================] - 0s 1ms/step - loss: 0.3797 - val_loss: 0.4304\n",
            "Epoch 18/20\n",
            "325/325 [==============================] - 0s 1ms/step - loss: 0.3843 - val_loss: 0.3859\n",
            "Epoch 19/20\n",
            "325/325 [==============================] - 0s 1ms/step - loss: 0.3733 - val_loss: 0.4060\n",
            "Epoch 20/20\n",
            "325/325 [==============================] - 0s 1ms/step - loss: 0.3775 - val_loss: 0.3877\n"
          ]
        }
      ]
    },
    {
      "cell_type": "code",
      "source": [
        "model.evaluate(X_test,y_test)"
      ],
      "metadata": {
        "colab": {
          "base_uri": "https://localhost:8080/"
        },
        "id": "LY0N_W7KSQEg",
        "outputId": "92423e8a-15ee-4dbc-f80f-4726ae08e2b6"
      },
      "execution_count": null,
      "outputs": [
        {
          "output_type": "stream",
          "name": "stdout",
          "text": [
            "213/213 [==============================] - 0s 836us/step - loss: 0.3959\n"
          ]
        },
        {
          "output_type": "execute_result",
          "data": {
            "text/plain": [
              "0.39593392610549927"
            ]
          },
          "metadata": {},
          "execution_count": 197
        }
      ]
    },
    {
      "cell_type": "code",
      "source": [
        "plt.plot(history.history['loss'])\n",
        "plt.plot(history.history['val_loss'])\n",
        "plt.title('model loss')\n",
        "plt.ylabel('MSE')\n",
        "plt.xlabel('epoch')\n",
        "plt.legend(['train', 'test'], loc='upper left')\n",
        "plt.show()"
      ],
      "metadata": {
        "colab": {
          "base_uri": "https://localhost:8080/",
          "height": 295
        },
        "id": "dwQxmlVJ1D_O",
        "outputId": "89919f89-62ff-4a5e-8a77-3483e07f4454"
      },
      "execution_count": null,
      "outputs": [
        {
          "output_type": "display_data",
          "data": {
            "text/plain": [
              "<Figure size 432x288 with 1 Axes>"
            ],
            "image/png": "[encoded data removed]"
          },
          "metadata": {}
        }
      ]
    },
    {
      "cell_type": "markdown",
      "source": [],
      "metadata": {
        "id": "PDseG00Jas2p"
      }
    },
    {
      "cell_type": "markdown",
      "source": [],
      "metadata": {
        "id": "72oEX-JgYPb-"
      }
    },
    {
      "cell_type": "markdown",
      "source": [
        "## Using functional API build the following Wide & Deep Neural Network with the following architecture.\n",
        "\n",
        "### Let Hidden layers contain 30 units each with ReLU activation. Pass features 0 to 4 in the wide path and features 2 to 7 into the deep path. Visualize the MSE for 20 epochs. Comment on overall accuracy"
      ],
      "metadata": {
        "id": "uktLYzfl4JZF"
      }
    },
    {
      "cell_type": "markdown",
      "source": [
        "![image.png](data:image/png;base64,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)"
      ],
      "metadata": {
        "id": "toZd2zABMeYQ"
      }
    },
    {
      "cell_type": "code",
      "source": [
        "input_a = tf.keras.layers.Input(shape = [5], name = 'wide_input')   # features from 0 to 4\n",
        "input_b = tf.keras.layers.Input(shape = [6], name = 'deep_input')   # features from 2 to 7\n",
        "hidden1 = tf.keras.layers.Dense(30, activation = 'relu')(input_b)\n",
        "hidden2 = tf.keras.layers.Dense(30, activation = 'relu')(hidden1)\n",
        "concat = tf.keras.layers.concatenate([input_a, hidden2])\n",
        "output = tf.keras.layers.Dense(1, name = 'output')(concat)"
      ],
      "metadata": {
        "id": "QyPXreU44LSp"
      },
      "execution_count": null,
      "outputs": []
    },
    {
      "cell_type": "code",
      "source": [
        "model2 = tf.keras.Model(inputs = [input_a, input_b], outputs = [output])"
      ],
      "metadata": {
        "id": "cnF7Bqw_2Dbg"
      },
      "execution_count": null,
      "outputs": []
    },
    {
      "cell_type": "code",
      "source": [
        "model2.compile(loss = tf.losses.mean_squared_error,\n",
        "             optimizer = tf.keras.optimizers.SGD())"
      ],
      "metadata": {
        "id": "3MTxVZY42JN3"
      },
      "execution_count": null,
      "outputs": []
    },
    {
      "cell_type": "code",
      "source": [
        "model2.summary()"
      ],
      "metadata": {
        "colab": {
          "base_uri": "https://localhost:8080/"
        },
        "id": "Zexno6O4Q4cr",
        "outputId": "8d3e14b5-f77e-4585-a6ae-d532d9cdb9ed"
      },
      "execution_count": null,
      "outputs": [
        {
          "output_type": "stream",
          "name": "stdout",
          "text": [
            "Model: \"model_5\"\n",
            "__________________________________________________________________________________________________\n",
            " Layer (type)                   Output Shape         Param #     Connected to                     \n",
            "==================================================================================================\n",
            " deep_input (InputLayer)        [(None, 6)]          0           []                               \n",
            "                                                                                                  \n",
            " dense_26 (Dense)               (None, 30)           210         ['deep_input[0][0]']             \n",
            "                                                                                                  \n",
            " wide_input (InputLayer)        [(None, 5)]          0           []                               \n",
            "                                                                                                  \n",
            " dense_27 (Dense)               (None, 30)           930         ['dense_26[0][0]']               \n",
            "                                                                                                  \n",
            " concatenate_5 (Concatenate)    (None, 35)           0           ['wide_input[0][0]',             \n",
            "                                                                  'dense_27[0][0]']               \n",
            "                                                                                                  \n",
            " output (Dense)                 (None, 1)            36          ['concatenate_5[0][0]']          \n",
            "                                                                                                  \n",
            "==================================================================================================\n",
            "Total params: 1,176\n",
            "Trainable params: 1,176\n",
            "Non-trainable params: 0\n",
            "__________________________________________________________________________________________________\n"
          ]
        }
      ]
    },
    {
      "cell_type": "code",
      "source": [
        "# X_train,X_test, X_valid all columns are indexing from 0 to 7\n",
        "\n",
        "x_train_a, x_train_b = X_train.iloc[:, :5], X_train.iloc[:, 2:]\n",
        "x_validation_a, x_validation_b = X_valid.iloc[:, :5], X_valid.iloc[:, 2:]\n",
        "x_test_a, x_test_b = X_test.iloc[:, :5], X_test.iloc[:, 2:]"
      ],
      "metadata": {
        "id": "8R-cLGeX2JKa"
      },
      "execution_count": null,
      "outputs": []
    },
    {
      "cell_type": "code",
      "source": [
        "history2 = model2.fit((x_train_a, x_train_b), y_train, epochs=20, validation_data=((x_validation_a, x_validation_b), y_valid))"
      ],
      "metadata": {
        "colab": {
          "base_uri": "https://localhost:8080/"
        },
        "id": "dGd4e35p2xF1",
        "outputId": "c0f54d30-03e3-4580-ff0a-e726d3c7d053"
      },
      "execution_count": null,
      "outputs": [
        {
          "output_type": "stream",
          "name": "stdout",
          "text": [
            "Epoch 1/20\n",
            "325/325 [==============================] - 1s 2ms/step - loss: 0.8767 - val_loss: 1.7436\n",
            "Epoch 2/20\n",
            "325/325 [==============================] - 0s 1ms/step - loss: 0.6703 - val_loss: 1.0708\n",
            "Epoch 3/20\n",
            "325/325 [==============================] - 0s 1ms/step - loss: 0.5457 - val_loss: 0.4954\n",
            "Epoch 4/20\n",
            "325/325 [==============================] - 0s 1ms/step - loss: 0.4870 - val_loss: 0.4714\n",
            "Epoch 5/20\n",
            "325/325 [==============================] - 0s 1ms/step - loss: 0.4663 - val_loss: 0.4516\n",
            "Epoch 6/20\n",
            "325/325 [==============================] - 0s 1ms/step - loss: 0.4550 - val_loss: 0.4446\n",
            "Epoch 7/20\n",
            "325/325 [==============================] - 0s 1ms/step - loss: 0.4361 - val_loss: 0.4286\n",
            "Epoch 8/20\n",
            "325/325 [==============================] - 0s 1ms/step - loss: 0.4266 - val_loss: 0.4255\n",
            "Epoch 9/20\n",
            "325/325 [==============================] - 0s 1ms/step - loss: 0.4178 - val_loss: 0.4161\n",
            "Epoch 10/20\n",
            "325/325 [==============================] - 0s 1ms/step - loss: 0.4086 - val_loss: 0.4015\n",
            "Epoch 11/20\n",
            "325/325 [==============================] - 0s 1ms/step - loss: 0.4014 - val_loss: 0.4013\n",
            "Epoch 12/20\n",
            "325/325 [==============================] - 0s 1ms/step - loss: 0.3966 - val_loss: 0.3869\n",
            "Epoch 13/20\n",
            "325/325 [==============================] - 0s 1ms/step - loss: 0.4067 - val_loss: 0.3921\n",
            "Epoch 14/20\n",
            "325/325 [==============================] - 0s 1ms/step - loss: 0.3835 - val_loss: 0.3858\n",
            "Epoch 15/20\n",
            "325/325 [==============================] - 0s 1ms/step - loss: 0.3773 - val_loss: 0.3748\n",
            "Epoch 16/20\n",
            "325/325 [==============================] - 0s 1ms/step - loss: 0.3748 - val_loss: 0.3919\n",
            "Epoch 17/20\n",
            "325/325 [==============================] - 0s 1ms/step - loss: 0.3686 - val_loss: 0.3750\n",
            "Epoch 18/20\n",
            "325/325 [==============================] - 0s 1ms/step - loss: 0.3643 - val_loss: 0.4583\n",
            "Epoch 19/20\n",
            "325/325 [==============================] - 1s 2ms/step - loss: 0.3610 - val_loss: 0.3795\n",
            "Epoch 20/20\n",
            "325/325 [==============================] - 0s 1ms/step - loss: 0.3593 - val_loss: 0.3591\n"
          ]
        }
      ]
    },
    {
      "cell_type": "code",
      "source": [
        "mean_squared_error_test = model2.evaluate((x_test_a, x_test_b), y_test)\n",
        "print(mean_squared_error_test)"
      ],
      "metadata": {
        "colab": {
          "base_uri": "https://localhost:8080/"
        },
        "id": "TO56m5-C429t",
        "outputId": "fb7ef143-3edf-4476-8a5f-8b14bddbe0fe"
      },
      "execution_count": null,
      "outputs": [
        {
          "output_type": "stream",
          "name": "stdout",
          "text": [
            "213/213 [==============================] - 0s 867us/step - loss: 0.3633\n",
            "0.3633024990558624\n"
          ]
        }
      ]
    },
    {
      "cell_type": "code",
      "source": [
        "plt.plot(history2.history['loss'])\n",
        "plt.plot(history2.history['val_loss'])\n",
        "plt.title('model loss')\n",
        "plt.ylabel('MSE')\n",
        "plt.xlabel('epoch')\n",
        "plt.legend(['train', 'test'], loc='upper left')\n",
        "plt.show()"
      ],
      "metadata": {
        "colab": {
          "base_uri": "https://localhost:8080/",
          "height": 295
        },
        "id": "g5pCbbqSP1_Z",
        "outputId": "9ac39deb-ab89-445f-f18c-7206e6a12795"
      },
      "execution_count": null,
      "outputs": [
        {
          "output_type": "display_data",
          "data": {
            "text/plain": [
              "<Figure size 432x288 with 1 Axes>"
            ],
            "image/png": "[encoded data removed]"
          },
          "metadata": {}
        }
      ]
    },
    {
      "cell_type": "markdown",
      "source": [],
      "metadata": {
        "id": "w5tQ0NnwYRtT"
      }
    },
    {
      "cell_type": "code",
      "source": [
        "print(\"loss of the sequential model: \",model.evaluate(X_test,y_test))\n",
        "print(\"loss of the functional model: \",mean_squared_error_test)"
      ],
      "metadata": {
        "colab": {
          "base_uri": "https://localhost:8080/"
        },
        "id": "O2rew4SWP3gG",
        "outputId": "2c858cec-abec-4fbc-e931-94e32073c993"
      },
      "execution_count": null,
      "outputs": [
        {
          "output_type": "stream",
          "name": "stdout",
          "text": [
            "213/213 [==============================] - 0s 801us/step - loss: 0.3959\n",
            "loss of the sequential model:  0.39593392610549927\n",
            "loss of the functional model:  0.3633024990558624\n"
          ]
        }
      ]
    },
    {
      "cell_type": "markdown",
      "source": [
        "### from the above two models model developed with functional API is performing better than the sequential API."
      ],
      "metadata": {
        "id": "isCaFmzLcAvz"
      }
    },
    {
      "cell_type": "code",
      "source": [],
      "metadata": {
        "id": "KpYwO1RZb6oo"
      },
      "execution_count": null,
      "outputs": []
    }
  ]
}